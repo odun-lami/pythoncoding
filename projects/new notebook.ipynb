{
 "cells": [
  {
   "cell_type": "code",
   "execution_count": 3,
   "metadata": {},
   "outputs": [
    {
     "name": "stdout",
     "output_type": "stream",
     "text": [
      "wouldn't you like to know weather boy\n"
     ]
    }
   ],
   "source": [
    "print (\"wouldn't you like to know weather boy\")"
   ]
  },
  {
   "cell_type": "code",
   "execution_count": 12,
   "metadata": {},
   "outputs": [
    {
     "name": "stdout",
     "output_type": "stream",
     "text": [
      "467\n"
     ]
    }
   ],
   "source": [
    "print (a+c)\n",
    "       "
   ]
  },
  {
   "cell_type": "code",
   "execution_count": 11,
   "metadata": {},
   "outputs": [
    {
     "name": "stdout",
     "output_type": "stream",
     "text": [
      "470\n",
      "-2\n"
     ]
    }
   ],
   "source": [
    "\n",
    "a=234*2\n",
    "b= 1+1\n",
    "c=-1\n",
    "print (a+b)\n",
    "print (c-1)"
   ]
  },
  {
   "cell_type": "code",
   "execution_count": 2,
   "metadata": {},
   "outputs": [
    {
     "name": "stdout",
     "output_type": "stream",
     "text": [
      "[22, 1, 56, 9]\n"
     ]
    }
   ],
   "source": [
    "a =[22, 1, 56, 9]\n",
    "print (a)"
   ]
  },
  {
   "cell_type": "code",
   "execution_count": 3,
   "metadata": {},
   "outputs": [
    {
     "name": "stdout",
     "output_type": "stream",
     "text": [
      "[22, 1, 56, 9, 'ho']\n"
     ]
    }
   ],
   "source": [
    "a.append ('ho')\n",
    "print (a)"
   ]
  },
  {
   "cell_type": "code",
   "execution_count": 5,
   "metadata": {},
   "outputs": [
    {
     "ename": "SyntaxError",
     "evalue": "invalid syntax (<ipython-input-5-bee3abce0546>, line 2)",
     "output_type": "error",
     "traceback": [
      "\u001b[1;36m  File \u001b[1;32m\"<ipython-input-5-bee3abce0546>\"\u001b[1;36m, line \u001b[1;32m2\u001b[0m\n\u001b[1;33m    print (b {\"jay\"})\u001b[0m\n\u001b[1;37m             ^\u001b[0m\n\u001b[1;31mSyntaxError\u001b[0m\u001b[1;31m:\u001b[0m invalid syntax\n"
     ]
    }
   ],
   "source": [
    "b= {\"jackson\":33, \"jay\":23}\n",
    "print (b {\"jay\"})"
   ]
  },
  {
   "cell_type": "code",
   "execution_count": null,
   "metadata": {},
   "outputs": [],
   "source": [
    "import random\n",
    "\n",
    "\n",
    "number = random.randint (0, 100)\n",
    "print (number)\n",
    "\n",
    "while True:\n",
    "    guess = input (\"Pick a ramdom number from 0-100\")\n",
    "    guess = int (guess)\n",
    "    if guess == number: \n",
    "        print (\"are you a witch?\")\n",
    "        break\n",
    "else:\n",
    "    print (\"you missed it, whore\")"
   ]
  },
  {
   "cell_type": "code",
   "execution_count": 17,
   "metadata": {},
   "outputs": [
    {
     "ename": "SyntaxError",
     "evalue": "invalid syntax (<ipython-input-17-bfc7b4cbf27f>, line 2)",
     "output_type": "error",
     "traceback": [
      "\u001b[1;36m  File \u001b[1;32m\"<ipython-input-17-bfc7b4cbf27f>\"\u001b[1;36m, line \u001b[1;32m2\u001b[0m\n\u001b[1;33m    while age <10\u001b[0m\n\u001b[1;37m                 ^\u001b[0m\n\u001b[1;31mSyntaxError\u001b[0m\u001b[1;31m:\u001b[0m invalid syntax\n"
     ]
    }
   ],
   "source": [
    "age = 10\n",
    "while age <10\n",
    "print (\" i am {} years old \")"
   ]
  },
  {
   "cell_type": "code",
   "execution_count": null,
   "metadata": {},
   "outputs": [],
   "source": [
    "age = 10\n",
    "while age <10\n",
    "print (\" i am {} years old \")"
   ]
  },
  {
   "cell_type": "code",
   "execution_count": null,
   "metadata": {},
   "outputs": [],
   "source": [
    "import random\n",
    "\n",
    "\n",
    "number = random.randint (0, 100)\n",
    "print (number)\n",
    "\n",
    "while True:\n",
    "    guess = input (\"Pick a ramdom number from 0-100\")\n",
    "    guess = int (guess)\n",
    "    if guess == number: \n",
    "        print (\"are you a witch?\")\n",
    "        break\n",
    "    else:\n",
    "        print (\"you missed it, whore\")"
   ]
  },
  {
   "cell_type": "code",
   "execution_count": 1,
   "metadata": {},
   "outputs": [
    {
     "name": "stdout",
     "output_type": "stream",
     "text": [
      "84\n",
      "Pick a ramdom number from 0-10077\n",
      "you missed it, whore\n",
      "Pick a ramdom number from 0-10084\n",
      "are you a witch?\n"
     ]
    }
   ],
   "source": [
    "import random\n",
    "\n",
    "\n",
    "number = random.randint (0, 100)\n",
    "print (number)\n",
    "\n",
    "while True:\n",
    "    guess = input (\"Pick a ramdom number from 0-100\")\n",
    "    guess = int (guess)\n",
    "    if guess == number: \n",
    "        print (\"are you a witch?\")\n",
    "        break\n",
    "    else:\n",
    "        print (\"you missed it, whore\")"
   ]
  },
  {
   "cell_type": "code",
   "execution_count": null,
   "metadata": {},
   "outputs": [],
   "source": []
  },
  {
   "cell_type": "code",
   "execution_count": null,
   "metadata": {},
   "outputs": [],
   "source": []
  }
 ],
 "metadata": {
  "kernelspec": {
   "display_name": "Python 3",
   "language": "python",
   "name": "python3"
  },
  "language_info": {
   "codemirror_mode": {
    "name": "ipython",
    "version": 3
   },
   "file_extension": ".py",
   "mimetype": "text/x-python",
   "name": "python",
   "nbconvert_exporter": "python",
   "pygments_lexer": "ipython3",
   "version": "3.7.1"
  }
 },
 "nbformat": 4,
 "nbformat_minor": 2
}
